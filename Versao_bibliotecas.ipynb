{
 "cells": [
  {
   "cell_type": "code",
   "execution_count": 2,
   "metadata": {
    "colab": {
     "base_uri": "https://localhost:8080/",
     "height": 119
    },
    "colab_type": "code",
    "id": "kffSOYcgir5Q",
    "outputId": "9507a884-8d9d-4906-8715-0a0afbd32180"
   },
   "outputs": [
    {
     "name": "stdout",
     "output_type": "stream",
     "text": [
      "Versão do pandas -> 1.5.2\n",
      "Versão do numpy -> 1.23.5\n",
      "Versão do scipy -> 1.9.3\n",
      "Versão do statsmodels -> 0.13.5\n",
      "Versão do seaborn -> 0.12.1\n",
      "Versão do matplotlib -> 3.6.2\n"
     ]
    }
   ],
   "source": [
    "import pandas, numpy, scipy, statsmodels, seaborn, matplotlib\n",
    "\n",
    "print('Versão do pandas -> %s' % pandas.__version__)\n",
    "print('Versão do numpy -> %s' % numpy.__version__)\n",
    "print('Versão do scipy -> %s' % scipy.__version__)\n",
    "print('Versão do statsmodels -> %s' % statsmodels.__version__)\n",
    "print('Versão do seaborn -> %s' % seaborn.__version__)\n",
    "print('Versão do matplotlib -> %s' % matplotlib.__version__)"
   ]
  },
  {
   "cell_type": "code",
   "execution_count": null,
   "metadata": {
    "colab": {},
    "colab_type": "code",
    "id": "bcAPEvyqjJCx"
   },
   "outputs": [],
   "source": []
  }
 ],
 "metadata": {
  "colab": {
   "name": "Versão_bibliotecas.ipynb",
   "provenance": [],
   "version": "0.3.2"
  },
  "kernelspec": {
   "display_name": "Python 3",
   "language": "python",
   "name": "python3"
  },
  "language_info": {
   "codemirror_mode": {
    "name": "ipython",
    "version": 3
   },
   "file_extension": ".py",
   "mimetype": "text/x-python",
   "name": "python",
   "nbconvert_exporter": "python",
   "pygments_lexer": "ipython3",
   "version": "3.11.0 (main, Oct 24 2022, 18:26:48) [MSC v.1933 64 bit (AMD64)]"
  },
  "vscode": {
   "interpreter": {
    "hash": "ebe0b94344c0f4b7f5f23c6264dd64bfe6fbc608d3c775e4a8d0508d40af3b3e"
   }
  }
 },
 "nbformat": 4,
 "nbformat_minor": 1
}
